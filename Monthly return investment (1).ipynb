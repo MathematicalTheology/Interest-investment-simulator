{
 "cells": [
  {
   "cell_type": "markdown",
   "id": "4ced1ffa-31b3-49ca-bd1b-8aabf389f447",
   "metadata": {},
   "source": [
    "For this first box we are going to implement a future return function based on a constant monthly investment amount and a constant monthly interest rates. a geometric series is used. I refers to the monthly investment amount. r refers to monthly interest rate. n the amount of periods (months).  "
   ]
  },
  {
   "cell_type": "code",
   "execution_count": 5,
   "id": "4939f06c-8d03-47d7-a929-6e64906470f0",
   "metadata": {},
   "outputs": [
    {
     "name": "stdin",
     "output_type": "stream",
     "text": [
      "Monthly interest rate 0.01\n",
      "Montlhy investment 1000\n",
      "months passed 36\n"
     ]
    },
    {
     "data": {
      "text/plain": [
       "43076.8783591581"
      ]
     },
     "execution_count": 5,
     "metadata": {},
     "output_type": "execute_result"
    }
   ],
   "source": [
    "def constinv(I, r, n):\n",
    "    FV = I * (((1 + r)**n - 1) / r)\n",
    "    return FV\n",
    "\n",
    "r=float(input(\"Monthly interest rate\"))\n",
    "I=float(input(\"Montlhy investment\"))\n",
    "n=float(input(\"months passed\"))\n",
    "\n",
    "constinv(I, r, n)\n",
    "\n"
   ]
  },
  {
   "cell_type": "markdown",
   "id": "5dea9f2f-ad32-4485-b108-3f9b996d21f3",
   "metadata": {},
   "source": [
    "Now what if the monthly investment rate changes, due to higher earnings. We cannot take the geometric sum formula, since the investment amount is not constant. The code belows explore the method to calculate taking into account different interest rate percentages and different investment amounts.\n"
   ]
  },
  {
   "cell_type": "code",
   "execution_count": 1,
   "id": "8448ed78-33db-4ecc-8d76-8babefe4e49c",
   "metadata": {},
   "outputs": [
    {
     "name": "stdin",
     "output_type": "stream",
     "text": [
      "return rates, separate your rates with a comma 0.01, 0.05\n",
      "investment amount, separate your values with a comma 2, 2\n"
     ]
    },
    {
     "name": "stdout",
     "output_type": "stream",
     "text": [
      "4.02\n"
     ]
    }
   ],
   "source": [
    "rate_inp=input(\"return rates in decimals like 0.01 for 1% monthly interest rate, separate your rates with a comma\") \n",
    "numbers = [float(num.strip()) for num in rate_inp.split(',')]\n",
    "inv_inp=input(\"investment amount, separate your values with a comma\") \n",
    "invest=[float(num.strip()) for num in inv_inp.split(',')]\n",
    "n=len(invest)\n",
    "months=list(range(n))\n",
    "months.reverse()\n",
    "\n",
    "\n",
    "\n",
    "FV=0\n",
    "for i in range(len(invest)):\n",
    "    FV+= invest[i]*(1+numbers[i])**months[i]\n",
    "\n",
    "print(FV)\n",
    "\n",
    "\n"
   ]
  },
  {
   "cell_type": "code",
   "execution_count": null,
   "id": "3c13723b-7efa-424c-9d6f-67490f53941d",
   "metadata": {},
   "outputs": [],
   "source": []
  }
 ],
 "metadata": {
  "kernelspec": {
   "display_name": "Python 3 (ipykernel)",
   "language": "python",
   "name": "python3"
  },
  "language_info": {
   "codemirror_mode": {
    "name": "ipython",
    "version": 3
   },
   "file_extension": ".py",
   "mimetype": "text/x-python",
   "name": "python",
   "nbconvert_exporter": "python",
   "pygments_lexer": "ipython3",
   "version": "3.12.7"
  }
 },
 "nbformat": 4,
 "nbformat_minor": 5
}
