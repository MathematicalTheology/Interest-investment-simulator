{
 "cells": [
  {
   "cell_type": "markdown",
   "id": "4ced1ffa-31b3-49ca-bd1b-8aabf389f447",
   "metadata": {},
   "source": [
    "For this first box we are going to implement a future return function based on a constant monthly investment amount and a constant monthly interest rates. a geometric series is used. I refers to the monthly investment amount. r refers to monthly interest rate. n the amount of periods (months).  "
   ]
  },
  {
   "cell_type": "code",
   "execution_count": null,
   "id": "4939f06c-8d03-47d7-a929-6e64906470f0",
   "metadata": {},
   "outputs": [],
   "source": [
    "def constinv(I, r, n):\n",
    "    FV = I * (((1 + r)**n - 1) / r)\n",
    "    return FV\n",
    "\n",
    "r=float(input(\"Monthly interest rate\"))\n",
    "I=float(input(\"Montlhy investment\"))\n",
    "n=float(input(\"months passed\"))\n",
    "\n",
    "constinv(I, r, n)\n",
    "\n"
   ]
  },
  {
   "cell_type": "markdown",
   "id": "5dea9f2f-ad32-4485-b108-3f9b996d21f3",
   "metadata": {},
   "source": [
    "Now what if the monthly investment rate and interest rate changes, due to higher earnings. We cannot take the geometric sum formula, since the investment amount is not constant. The code belows explore the method to calculate taking into account different investment amounts and interest rate amounts.\n"
   ]
  },
  {
   "cell_type": "code",
   "execution_count": null,
   "id": "8448ed78-33db-4ecc-8d76-8babefe4e49c",
   "metadata": {},
   "outputs": [],
   "source": [
    "rat_inp = float(input(\"Monthly return rate in decimals (e.g. 0.005 for 0.5%),separate values with a comma: \"))\n",
    "rate=[float(i.strip()) for i in rat_inp.split(',')]\n",
    "inv_inp=input(\"Investment amounts, separate values with a comma: \")\n",
    "invest=[float(i.strip()) for i in inv_inp.split(',')]\n",
    "\n",
    "n =len(invest)\n",
    "months =list(range(n))\n",
    "months.reverse()\n",
    "\n",
    "FV=0                   #starting value\n",
    "for i in range(n):     # we calculate the growth of a investment by calculating the effects of every interest rate on the single investment since start\n",
    "    growth=1\n",
    "    for j in range(i,n): \n",
    "        growth*= (1+rate[j]))\n",
    "        \n",
    "        \n",
    "    FV+=invest[i] * growth\n",
    "\n",
    "print(FV)\n",
    "\n",
    "\n"
   ]
  }
 ],
 "metadata": {
  "kernelspec": {
   "display_name": "Python 3 (ipykernel)",
   "language": "python",
   "name": "python3"
  },
  "language_info": {
   "codemirror_mode": {
    "name": "ipython",
    "version": 3
   },
   "file_extension": ".py",
   "mimetype": "text/x-python",
   "name": "python",
   "nbconvert_exporter": "python",
   "pygments_lexer": "ipython3",
   "version": "3.12.7"
  }
 },
 "nbformat": 4,
 "nbformat_minor": 5
}
